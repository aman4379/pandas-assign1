{
 "cells": [
  {
   "cell_type": "markdown",
   "id": "dedf2d28-80c1-4140-b2dc-e72b165088de",
   "metadata": {},
   "source": [
    "Q1. Create a Pandas Series that contains the following data: 4, 8, 15, 16, 23, and 42. Then, print the series."
   ]
  },
  {
   "cell_type": "code",
   "execution_count": 2,
   "id": "95a59942-6cf0-406a-b5c7-4d0a9016d359",
   "metadata": {},
   "outputs": [],
   "source": [
    "import pandas as pd"
   ]
  },
  {
   "cell_type": "code",
   "execution_count": 2,
   "id": "82e1c2e9-8303-4ef9-9285-ae4d870fa541",
   "metadata": {},
   "outputs": [],
   "source": [
    "data = [4,8,15,16,23,42]"
   ]
  },
  {
   "cell_type": "code",
   "execution_count": 4,
   "id": "0d669abe-2ad2-48d2-9e57-e6961e62d7d3",
   "metadata": {},
   "outputs": [
    {
     "name": "stdout",
     "output_type": "stream",
     "text": [
      "0     4\n",
      "1     8\n",
      "2    15\n",
      "3    16\n",
      "4    23\n",
      "5    42\n",
      "dtype: int64\n"
     ]
    }
   ],
   "source": [
    "k = pd.Series(data)\n",
    "print(k)"
   ]
  },
  {
   "cell_type": "code",
   "execution_count": null,
   "id": "59323099-2a87-4ad9-bfa6-cded1625874e",
   "metadata": {},
   "outputs": [],
   "source": [
    "Q2. Create a variable of list type containing 10 elements in it, and apply pandas.Series function on the\n",
    "variable print it."
   ]
  },
  {
   "cell_type": "code",
   "execution_count": 7,
   "id": "9ccd3931-a5c8-4474-8fde-97d3e1b0ac5c",
   "metadata": {},
   "outputs": [],
   "source": [
    "data1 = [1,2,3,4,5,6,7,8,9,10]"
   ]
  },
  {
   "cell_type": "code",
   "execution_count": 9,
   "id": "0b0ca575-d359-47e9-b146-f30f0acba8c7",
   "metadata": {},
   "outputs": [
    {
     "name": "stdout",
     "output_type": "stream",
     "text": [
      "0     1\n",
      "1     2\n",
      "2     3\n",
      "3     4\n",
      "4     5\n",
      "5     6\n",
      "6     7\n",
      "7     8\n",
      "8     9\n",
      "9    10\n",
      "dtype: int64\n"
     ]
    }
   ],
   "source": [
    "dt = pd.Series(data1)\n",
    "print(dt)"
   ]
  },
  {
   "cell_type": "code",
   "execution_count": null,
   "id": "acdc5ee5-5842-4655-86e9-5757f7a63342",
   "metadata": {},
   "outputs": [],
   "source": [
    "Q3. Create a Pandas DataFrame that contains the following data:"
   ]
  },
  {
   "cell_type": "code",
   "execution_count": 10,
   "id": "8a7e63fc-1024-4a78-a506-3f98d8eede05",
   "metadata": {},
   "outputs": [],
   "source": [
    "ds = pd.DataFrame({'Name': ['Alice','Bob','Clair'],\n",
    "                   'Age': [25,30,27],\n",
    "                   'Gender':['Female','Male','Female']})"
   ]
  },
  {
   "cell_type": "code",
   "execution_count": 11,
   "id": "bd3c932d-b24b-4acd-925c-6e6740a1c6f8",
   "metadata": {},
   "outputs": [
    {
     "data": {
      "text/html": [
       "<div>\n",
       "<style scoped>\n",
       "    .dataframe tbody tr th:only-of-type {\n",
       "        vertical-align: middle;\n",
       "    }\n",
       "\n",
       "    .dataframe tbody tr th {\n",
       "        vertical-align: top;\n",
       "    }\n",
       "\n",
       "    .dataframe thead th {\n",
       "        text-align: right;\n",
       "    }\n",
       "</style>\n",
       "<table border=\"1\" class=\"dataframe\">\n",
       "  <thead>\n",
       "    <tr style=\"text-align: right;\">\n",
       "      <th></th>\n",
       "      <th>Name</th>\n",
       "      <th>Age</th>\n",
       "      <th>Gender</th>\n",
       "    </tr>\n",
       "  </thead>\n",
       "  <tbody>\n",
       "    <tr>\n",
       "      <th>0</th>\n",
       "      <td>Alice</td>\n",
       "      <td>25</td>\n",
       "      <td>Female</td>\n",
       "    </tr>\n",
       "    <tr>\n",
       "      <th>1</th>\n",
       "      <td>Bob</td>\n",
       "      <td>30</td>\n",
       "      <td>Male</td>\n",
       "    </tr>\n",
       "    <tr>\n",
       "      <th>2</th>\n",
       "      <td>Clair</td>\n",
       "      <td>27</td>\n",
       "      <td>Female</td>\n",
       "    </tr>\n",
       "  </tbody>\n",
       "</table>\n",
       "</div>"
      ],
      "text/plain": [
       "    Name  Age  Gender\n",
       "0  Alice   25  Female\n",
       "1    Bob   30    Male\n",
       "2  Clair   27  Female"
      ]
     },
     "execution_count": 11,
     "metadata": {},
     "output_type": "execute_result"
    }
   ],
   "source": [
    "ds"
   ]
  },
  {
   "cell_type": "code",
   "execution_count": null,
   "id": "2cf5bea6-6c6a-407f-8b70-2096c986f285",
   "metadata": {},
   "outputs": [],
   "source": [
    "Q4. What is ‘DataFrame’ in pandas and how is it different from pandas.series? Explain with an example."
   ]
  },
  {
   "cell_type": "code",
   "execution_count": null,
   "id": "2c1332f1-d173-471f-9437-66f6fa3bbd32",
   "metadata": {},
   "outputs": [],
   "source": [
    "Ans A Data frame is a two-dimensional data structure, i.e., data is aligned in a tabular fashion in rows and \n",
    "    columns. We can perform basic operations on rows/columns like selecting, deleting, adding, and renaming.\n",
    "    Series can only contain single list with index, whereas dataframe can be made of more than one series or we\n",
    "    can say that a dataframe is a collection of series that can be used to analyse the data. "
   ]
  },
  {
   "cell_type": "code",
   "execution_count": null,
   "id": "4b77417a-043a-4f01-b42d-29608bba7d53",
   "metadata": {},
   "outputs": [],
   "source": [
    "Q5. What are some common functions you can use to manipulate data in a Pandas DataFrame? Can\n",
    "    you give an example of when you might use one of these functions?"
   ]
  },
  {
   "cell_type": "code",
   "execution_count": null,
   "id": "43516645-569f-4d79-b66c-65d36dc722f2",
   "metadata": {},
   "outputs": [],
   "source": [
    "Ans The common functions we can use to manipulate data in Pandas dataframe are:\n",
    "    head(),shape(),describe(),dropna(),merge(), .iloc(), .loc() etc\n",
    "    "
   ]
  },
  {
   "cell_type": "code",
   "execution_count": null,
   "id": "0ac08d50-6e68-4875-a2bd-0bb7c881b4a5",
   "metadata": {},
   "outputs": [],
   "source": [
    "Q6. Which of the following is mutable in nature Series, DataFrame, Panel?"
   ]
  },
  {
   "cell_type": "code",
   "execution_count": null,
   "id": "d30268ed-d716-4882-a960-b558f151c1b5",
   "metadata": {},
   "outputs": [],
   "source": [
    "Ans Dataframe and Panel are mutable in nature."
   ]
  },
  {
   "cell_type": "code",
   "execution_count": null,
   "id": "93920dec-3956-4142-b1e0-14621ce2c34d",
   "metadata": {},
   "outputs": [],
   "source": [
    "Q7. Create a DataFrame using multiple Series. Explain with an example."
   ]
  },
  {
   "cell_type": "code",
   "execution_count": 33,
   "id": "38f49e28-b183-4836-a28a-00db081b24d7",
   "metadata": {},
   "outputs": [],
   "source": [
    "name = pd.Series(['Aman','Ashok','Ram','Shyam','Mohan'])"
   ]
  },
  {
   "cell_type": "code",
   "execution_count": 34,
   "id": "bd4e7445-70ac-451c-a7ad-40bb97194666",
   "metadata": {},
   "outputs": [],
   "source": [
    "age = pd.Series([24,23,21,20,23])"
   ]
  },
  {
   "cell_type": "code",
   "execution_count": 35,
   "id": "a0e1c7a7-8fe8-4537-a474-410efcd9ecfe",
   "metadata": {},
   "outputs": [],
   "source": [
    "sub = pd.Series(['computers','electrical','civil','mechanical','it'])"
   ]
  },
  {
   "cell_type": "code",
   "execution_count": 43,
   "id": "9cd232bb-71dc-4fd8-b5fc-4ac5772ef76e",
   "metadata": {},
   "outputs": [],
   "source": [
    "df = pd.DataFrame([name,age,sub])"
   ]
  },
  {
   "cell_type": "code",
   "execution_count": 44,
   "id": "31ed4c9e-e231-4ce7-8400-137fcd99ea18",
   "metadata": {},
   "outputs": [
    {
     "data": {
      "text/html": [
       "<div>\n",
       "<style scoped>\n",
       "    .dataframe tbody tr th:only-of-type {\n",
       "        vertical-align: middle;\n",
       "    }\n",
       "\n",
       "    .dataframe tbody tr th {\n",
       "        vertical-align: top;\n",
       "    }\n",
       "\n",
       "    .dataframe thead th {\n",
       "        text-align: right;\n",
       "    }\n",
       "</style>\n",
       "<table border=\"1\" class=\"dataframe\">\n",
       "  <thead>\n",
       "    <tr style=\"text-align: right;\">\n",
       "      <th></th>\n",
       "      <th>0</th>\n",
       "      <th>1</th>\n",
       "      <th>2</th>\n",
       "      <th>3</th>\n",
       "      <th>4</th>\n",
       "    </tr>\n",
       "  </thead>\n",
       "  <tbody>\n",
       "    <tr>\n",
       "      <th>0</th>\n",
       "      <td>Aman</td>\n",
       "      <td>Ashok</td>\n",
       "      <td>Ram</td>\n",
       "      <td>Shyam</td>\n",
       "      <td>Mohan</td>\n",
       "    </tr>\n",
       "    <tr>\n",
       "      <th>1</th>\n",
       "      <td>24</td>\n",
       "      <td>23</td>\n",
       "      <td>21</td>\n",
       "      <td>20</td>\n",
       "      <td>23</td>\n",
       "    </tr>\n",
       "    <tr>\n",
       "      <th>2</th>\n",
       "      <td>computers</td>\n",
       "      <td>electrical</td>\n",
       "      <td>civil</td>\n",
       "      <td>mechanical</td>\n",
       "      <td>it</td>\n",
       "    </tr>\n",
       "  </tbody>\n",
       "</table>\n",
       "</div>"
      ],
      "text/plain": [
       "           0           1      2           3      4\n",
       "0       Aman       Ashok    Ram       Shyam  Mohan\n",
       "1         24          23     21          20     23\n",
       "2  computers  electrical  civil  mechanical     it"
      ]
     },
     "execution_count": 44,
     "metadata": {},
     "output_type": "execute_result"
    }
   ],
   "source": [
    "df"
   ]
  },
  {
   "cell_type": "code",
   "execution_count": null,
   "id": "6e5b0fbd-1f81-4aa0-8c2b-156954371b24",
   "metadata": {},
   "outputs": [],
   "source": []
  }
 ],
 "metadata": {
  "kernelspec": {
   "display_name": "Python 3 (ipykernel)",
   "language": "python",
   "name": "python3"
  },
  "language_info": {
   "codemirror_mode": {
    "name": "ipython",
    "version": 3
   },
   "file_extension": ".py",
   "mimetype": "text/x-python",
   "name": "python",
   "nbconvert_exporter": "python",
   "pygments_lexer": "ipython3",
   "version": "3.10.8"
  }
 },
 "nbformat": 4,
 "nbformat_minor": 5
}
